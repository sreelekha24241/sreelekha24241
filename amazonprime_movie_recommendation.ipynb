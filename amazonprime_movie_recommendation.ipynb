{
  "nbformat": 4,
  "nbformat_minor": 0,
  "metadata": {
    "colab": {
      "provenance": [],
      "authorship_tag": "ABX9TyO5lCpLRuHAu1HYSK7iwviC",
      "include_colab_link": true
    },
    "kernelspec": {
      "name": "python3",
      "display_name": "Python 3"
    },
    "language_info": {
      "name": "python"
    }
  },
  "cells": [
    {
      "cell_type": "markdown",
      "metadata": {
        "id": "view-in-github",
        "colab_type": "text"
      },
      "source": [
        "<a href=\"https://colab.research.google.com/github/sreelekha24241/sreelekha24241/blob/main/amazonprime_movie_recommendation.ipynb\" target=\"_parent\"><img src=\"https://colab.research.google.com/assets/colab-badge.svg\" alt=\"Open In Colab\"/></a>"
      ]
    },
    {
      "cell_type": "code",
      "source": [
        "import pandas as pd\n",
        "from sklearn.feature_extraction.text import TfidfVectorizer\n",
        "from sklearn.metrics.pairwise import cosine_similarity\n",
        "\n",
        "# Load the data\n",
        "df = pd.read_csv('amazon_prime_titles.csv')\n",
        "\n",
        "# Create the TF-IDF matrix\n",
        "vectorizer = TfidfVectorizer(stop_words='english')\n",
        "tfidf_matrix = vectorizer.fit_transform(df['description'])\n",
        "\n",
        "# Calculate the cosine similarity matrix\n",
        "cosine_sim = cosine_similarity(tfidf_matrix, tfidf_matrix)\n",
        "\n",
        "def recommend_movie(title, cosine_sim=cosine_sim):\n",
        "    # Filter the DataFrame for the given title\n",
        "    movie_row = df[df['title'] == title]\n",
        "\n",
        "    # Check if any rows were found\n",
        "    if movie_row.empty:\n",
        "        print(f\"No movie found with the title: {title}\")\n",
        "        return None # Return None or an empty Series to indicate no recommendations\n",
        "\n",
        "    # Get the index of the movie\n",
        "    idx = movie_row.index[0]\n",
        "\n",
        "    # Get the similarity scores for the movie\n",
        "    sim_scores = list(enumerate(cosine_sim[idx]))\n",
        "\n",
        "    # Sort the similarity scores in descending order\n",
        "    sim_scores = sorted(sim_scores, key=lambda x: x[1], reverse=True)\n",
        "\n",
        "    # Get the top 3 similar movies (excluding the movie itself)\n",
        "    sim_scores = sim_scores[1:4]\n",
        "\n",
        "    # Get the indices of the recommended movies\n",
        "    movie_indices = [i[0] for i in sim_scores]\n",
        "\n",
        "    # Return the titles of the recommended movies\n",
        "    return df['title'].iloc[movie_indices]\n",
        "\n",
        "# Example usage with a title that likely exists\n",
        "movie_title = 'Field of Lost Shoes'\n",
        "print(f\"Recommendations for '{movie_title}':\")\n",
        "recommendations = recommend_movie(movie_title)\n",
        "\n",
        "# Only print recommendations if they were found\n",
        "if recommendations is not None:\n",
        "    print(recommendations)\n",
        "\n",
        "# Example usage with a title that likely does not exist\n",
        "movie_title = 'Field of Lost Shoes'\n",
        "print(f\"Recommendations for '{movie_title}':\")\n",
        "recommendations = recommend_movie(movie_title)\n",
        "\n",
        "# Only print recommendations if they were found\n",
        "if recommendations is not None:\n",
        "    print(recommendations)"
      ],
      "metadata": {
        "colab": {
          "base_uri": "https://localhost:8080/"
        },
        "id": "oC3KL-as1OQk",
        "outputId": "3827f467-a125-4696-e223-200249a6c5fd"
      },
      "execution_count": 16,
      "outputs": [
        {
          "output_type": "stream",
          "name": "stdout",
          "text": [
            "Recommendations for 'Field of Lost Shoes':\n",
            "9450    Honor Among Thieves\n",
            "8329             Copperhead\n",
            "7631        Fear and Desire\n",
            "Name: title, dtype: object\n",
            "Recommendations for 'Field of Lost Shoes':\n",
            "9450    Honor Among Thieves\n",
            "8329             Copperhead\n",
            "7631        Fear and Desire\n",
            "Name: title, dtype: object\n"
          ]
        }
      ]
    }
  ]
}